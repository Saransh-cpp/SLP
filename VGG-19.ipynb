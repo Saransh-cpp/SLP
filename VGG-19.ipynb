{
 "cells": [
  {
   "cell_type": "code",
   "execution_count": 1,
   "id": "98046ac2",
   "metadata": {},
   "outputs": [],
   "source": [
    "import os\n",
    "import cv2\n",
    "import numpy as np\n",
    "import splitfolders\n",
    "import tensorflow as tf\n",
    "from tensorflow import keras\n",
    "import matplotlib.pyplot as plt\n",
    "from keras.models import Sequential\n",
    "from keras.applications.vgg19 import VGG19\n",
    "from keras.preprocessing.image import ImageDataGenerator\n",
    "from keras.layers import Dense, Flatten"
   ]
  },
  {
   "cell_type": "code",
   "execution_count": 2,
   "id": "50ca5475",
   "metadata": {},
   "outputs": [
    {
     "data": {
      "text/plain": [
       "'2.6.0'"
      ]
     },
     "execution_count": 2,
     "metadata": {},
     "output_type": "execute_result"
    }
   ],
   "source": [
    "tf.__version__"
   ]
  },
  {
   "cell_type": "code",
   "execution_count": 3,
   "id": "a0dd4f42",
   "metadata": {},
   "outputs": [
    {
     "data": {
      "text/plain": [
       "['.ipynb_checkpoints',\n",
       " 'archive (3).zip',\n",
       " 'data',\n",
       " 'dataset',\n",
       " 'data_split',\n",
       " 'images_medseg.npy',\n",
       " 'images_medseg.npy.zip',\n",
       " 'masks_medseg.npy',\n",
       " 'masks_medseg.npy.zip',\n",
       " 'model.h5',\n",
       " 'model.tflite',\n",
       " 'nuclei',\n",
       " 'python_scripts',\n",
       " 'test_images_medseg.npy',\n",
       " 'test_images_medseg.npy.zip',\n",
       " 'train.ipynb',\n",
       " 'UNet.ipynb',\n",
       " 'Untitled.ipynb']"
      ]
     },
     "execution_count": 3,
     "metadata": {},
     "output_type": "execute_result"
    }
   ],
   "source": [
    "os.listdir()"
   ]
  },
  {
   "cell_type": "code",
   "execution_count": 4,
   "id": "bcabfbc7",
   "metadata": {},
   "outputs": [
    {
     "data": {
      "text/plain": [
       "['test', 'test.txt', 'train', 'train.txt']"
      ]
     },
     "execution_count": 4,
     "metadata": {},
     "output_type": "execute_result"
    }
   ],
   "source": [
    "os.listdir(\"./dataset/\")"
   ]
  },
  {
   "cell_type": "code",
   "execution_count": 5,
   "id": "e9c0eabb",
   "metadata": {},
   "outputs": [],
   "source": [
    "with open(\"./dataset/train.txt\", \"r\") as f:\n",
    "    lines = f.readlines()\n",
    "    for line in lines:\n",
    "        line = line.split(\" \")\n",
    "        category = line[-2]\n",
    "        filename = line[-3]\n",
    "        \n",
    "        try:\n",
    "            if category == \"positive\":\n",
    "                os.replace(f\"./dataset/train/{filename}\", f\"./dataset/data/positive/{filename}\")\n",
    "            elif category == \"negative\":\n",
    "                os.replace(f\"./dataset/train/{filename}\", f\"./dataset/data/negative/{filename}\")\n",
    "        except FileNotFoundError:\n",
    "            pass"
   ]
  },
  {
   "cell_type": "code",
   "execution_count": 6,
   "id": "d3d6e135",
   "metadata": {},
   "outputs": [],
   "source": [
    "with open(\"./dataset/test.txt\", \"r\") as f:\n",
    "    lines = f.readlines()\n",
    "    for line in lines:\n",
    "        line = line.split(\" \")\n",
    "        category = line[-2]\n",
    "        filename = line[-3]\n",
    "        \n",
    "        try:\n",
    "            if category == \"positive\":\n",
    "                os.replace(f\"./dataset/test/{filename}\", f\"./dataset/data/positive/{filename}\")\n",
    "            elif category == \"negative\":\n",
    "                os.replace(f\"./dataset/test/{filename}\", f\"./dataset/data/negative/{filename}\")\n",
    "        except FileNotFoundError as e:\n",
    "            pass"
   ]
  },
  {
   "cell_type": "code",
   "execution_count": 7,
   "id": "96744756",
   "metadata": {},
   "outputs": [],
   "source": [
    "if os.path.exists(\"./dataset/data\"):\n",
    "    os.renames(\"./dataset/data\", \"./data\")"
   ]
  },
  {
   "cell_type": "code",
   "execution_count": 8,
   "id": "82d642a9",
   "metadata": {},
   "outputs": [],
   "source": [
    "if not os.path.exists(os.path.join(os.getcwd(), './data_split')):\n",
    "    splitfolders.ratio(\"./data\", output=\"./data_split\", seed=1337, ratio=(.7, .2, .1), group_prefix=None)"
   ]
  },
  {
   "cell_type": "code",
   "execution_count": 5,
   "id": "e619599d",
   "metadata": {},
   "outputs": [],
   "source": [
    "vgg19 = VGG19(input_shape=(224, 224, 3), weights='imagenet', include_top=False)\n",
    "vgg19.trainable = False"
   ]
  },
  {
   "cell_type": "code",
   "execution_count": 6,
   "id": "028c61cd",
   "metadata": {},
   "outputs": [
    {
     "name": "stdout",
     "output_type": "stream",
     "text": [
      "Model: \"sequential\"\n",
      "_________________________________________________________________\n",
      "Layer (type)                 Output Shape              Param #   \n",
      "=================================================================\n",
      "vgg19 (Functional)           (None, 7, 7, 512)         20024384  \n",
      "_________________________________________________________________\n",
      "flatten (Flatten)            (None, 25088)             0         \n",
      "_________________________________________________________________\n",
      "dense (Dense)                (None, 2)                 50178     \n",
      "=================================================================\n",
      "Total params: 20,074,562\n",
      "Trainable params: 50,178\n",
      "Non-trainable params: 20,024,384\n",
      "_________________________________________________________________\n"
     ]
    }
   ],
   "source": [
    "# Flatten and output layer\n",
    "flatten_layer = Flatten()\n",
    "prediction_layer = Dense(2, activation='softmax')\n",
    "\n",
    "# the final model\n",
    "model = Sequential([\n",
    "    vgg19,\n",
    "    flatten_layer,\n",
    "    prediction_layer\n",
    "])\n",
    "\n",
    "# view the structure of the model\n",
    "model.summary()"
   ]
  },
  {
   "cell_type": "code",
   "execution_count": 7,
   "id": "6382ed48",
   "metadata": {},
   "outputs": [],
   "source": [
    "model.compile(\n",
    "    loss='categorical_crossentropy',\n",
    "    optimizer='adam',\n",
    "    metrics=['accuracy'],\n",
    ")"
   ]
  },
  {
   "cell_type": "code",
   "execution_count": 8,
   "id": "bf160406",
   "metadata": {},
   "outputs": [
    {
     "name": "stdout",
     "output_type": "stream",
     "text": [
      "Found 21617 images belonging to 2 classes.\n",
      "Found 6176 images belonging to 2 classes.\n"
     ]
    }
   ],
   "source": [
    "# for training data\n",
    "train_datagen = ImageDataGenerator(\n",
    "    # rescaling pixel values\n",
    "    rescale=1./255,\n",
    "    \n",
    "    # augmenting the data\n",
    "    shear_range = 0.2,\n",
    "    zoom_range = 0.4,\n",
    "    horizontal_flip = True\n",
    ")\n",
    "\n",
    "# for cross validation data\n",
    "val_datagen = ImageDataGenerator(\n",
    "    # rescaling pixel values\n",
    "    rescale=1./255,\n",
    ")\n",
    "\n",
    "# obtaining training dataset\n",
    "training_set = train_datagen.flow_from_directory(\n",
    "    './data_split/train/',\n",
    "     target_size=(224, 224),\n",
    "     batch_size=32,\n",
    "     class_mode='categorical'\n",
    ")\n",
    "\n",
    "# obtaining cross-validation dataset\n",
    "validation_set = val_datagen.flow_from_directory(\n",
    "    './data_split/val/',\n",
    "    target_size=(224, 224),\n",
    "    batch_size=32,\n",
    "    class_mode='categorical'\n",
    ")"
   ]
  },
  {
   "cell_type": "code",
   "execution_count": 9,
   "id": "de641304",
   "metadata": {},
   "outputs": [
    {
     "name": "stdout",
     "output_type": "stream",
     "text": [
      "Epoch 1/10\n",
      "676/676 [==============================] - 1996s 3s/step - loss: 0.3185 - accuracy: 0.8665 - val_loss: 0.3347 - val_accuracy: 0.8672\n",
      "Epoch 2/10\n",
      "676/676 [==============================] - 1460s 2s/step - loss: 0.2527 - accuracy: 0.8977 - val_loss: 0.1910 - val_accuracy: 0.9294\n",
      "Epoch 3/10\n",
      "676/676 [==============================] - 1368s 2s/step - loss: 0.2403 - accuracy: 0.9060 - val_loss: 0.2493 - val_accuracy: 0.9030\n",
      "Epoch 4/10\n",
      "676/676 [==============================] - 1756s 3s/step - loss: 0.2324 - accuracy: 0.9114 - val_loss: 0.2843 - val_accuracy: 0.8930\n",
      "Epoch 5/10\n",
      "676/676 [==============================] - 1774s 3s/step - loss: 0.2390 - accuracy: 0.9078 - val_loss: 0.1896 - val_accuracy: 0.9270\n",
      "Epoch 6/10\n",
      "676/676 [==============================] - 2432s 4s/step - loss: 0.2467 - accuracy: 0.9111 - val_loss: 0.1746 - val_accuracy: 0.9409\n",
      "Epoch 7/10\n",
      "676/676 [==============================] - 1742s 3s/step - loss: 0.2145 - accuracy: 0.9185 - val_loss: 0.2084 - val_accuracy: 0.9216\n",
      "Epoch 8/10\n",
      "676/676 [==============================] - 1287s 2s/step - loss: 0.2023 - accuracy: 0.9221 - val_loss: 0.1522 - val_accuracy: 0.9475\n",
      "Epoch 9/10\n",
      "676/676 [==============================] - 1684s 2s/step - loss: 0.2318 - accuracy: 0.9142 - val_loss: 0.1590 - val_accuracy: 0.9459\n",
      "Epoch 10/10\n",
      "676/676 [==============================] - 1452s 2s/step - loss: 0.1944 - accuracy: 0.9248 - val_loss: 0.1798 - val_accuracy: 0.9430\n"
     ]
    }
   ],
   "source": [
    "history = model.fit(\n",
    "    training_set,\n",
    "    validation_data=validation_set,\n",
    "    epochs=10,\n",
    "    batch_size=16,\n",
    ")"
   ]
  },
  {
   "cell_type": "code",
   "execution_count": 10,
   "id": "8311d47f",
   "metadata": {},
   "outputs": [
    {
     "name": "stdout",
     "output_type": "stream",
     "text": [
      "INFO:tensorflow:Assets written to: C:\\Users\\Saransh\\AppData\\Local\\Temp\\tmp39bruv_d\\assets\n"
     ]
    }
   ],
   "source": [
    "converter = tf.lite.TFLiteConverter.from_keras_model(model)\n",
    "tflite_model = converter.convert()\n",
    "\n",
    "with open(\"slp_model.tflite\", \"wb\") as m:\n",
    "    m.write(tflite_model)\n",
    "    \n",
    "model.save(\"slp_model.h5\")"
   ]
  },
  {
   "cell_type": "code",
   "execution_count": 11,
   "id": "0a8f6a06",
   "metadata": {},
   "outputs": [
    {
     "data": {
      "text/plain": [
       "<matplotlib.legend.Legend at 0x2250439e130>"
      ]
     },
     "execution_count": 11,
     "metadata": {},
     "output_type": "execute_result"
    },
    {
     "data": {
      "image/png": "[encoded data removed]",
      "text/plain": [
       "<Figure size 432x288 with 1 Axes>"
      ]
     },
     "metadata": {
      "needs_background": "light"
     },
     "output_type": "display_data"
    },
    {
     "data": {
      "image/png": "[encoded data removed]",
      "text/plain": [
       "<Figure size 432x288 with 1 Axes>"
      ]
     },
     "metadata": {
      "needs_background": "light"
     },
     "output_type": "display_data"
    }
   ],
   "source": [
    "acc = history.history['accuracy']\n",
    "val_acc = history.history['val_accuracy']\n",
    "loss = history.history['loss']\n",
    "val_loss = history.history['val_loss']\n",
    "epochs = np.array([1, 2, 3, 4, 5, 6, 7, 8, 9, 10])\n",
    "\n",
    "plt.plot(epochs, acc, label='Training accuracy')\n",
    "plt.plot(epochs, val_acc, label='Cross validation accuracy')\n",
    "plt.ylabel('Accuracy')\n",
    "plt.xlabel('Epoch')\n",
    "plt.legend()\n",
    "\n",
    "plt.figure()\n",
    "plt.plot(epochs, loss, label='Training loss')\n",
    "plt.plot(epochs, val_loss, label='Cross validation loss')\n",
    "plt.xlabel('Epoch')\n",
    "plt.ylabel('Loss')\n",
    "plt.legend()"
   ]
  },
  {
   "cell_type": "code",
   "execution_count": 15,
   "id": "b7ccddb1",
   "metadata": {},
   "outputs": [],
   "source": [
    "from keras.models import load_model\n",
    "\n",
    "model = load_model(\"./model.h5\")"
   ]
  },
  {
   "cell_type": "code",
   "execution_count": 12,
   "id": "0ec0e2d3",
   "metadata": {},
   "outputs": [
    {
     "name": "stdout",
     "output_type": "stream",
     "text": [
      "Found 3088 images belonging to 2 classes.\n"
     ]
    }
   ],
   "source": [
    "test_datagen = ImageDataGenerator(\n",
    "    rescale=1./255,\n",
    ")\n",
    "\n",
    "test_set = test_datagen.flow_from_directory(\n",
    "    './data_split/test/',\n",
    "    target_size=(224, 224),\n",
    "    batch_size=32,\n",
    "    class_mode='categorical',\n",
    "    shuffle=False\n",
    ")"
   ]
  },
  {
   "cell_type": "code",
   "execution_count": 13,
   "id": "c009d8ec",
   "metadata": {},
   "outputs": [
    {
     "name": "stdout",
     "output_type": "stream",
     "text": [
      "97/97 [==============================] - 136s 1s/step - loss: 0.1840 - accuracy: 0.9430\n"
     ]
    },
    {
     "data": {
      "text/plain": [
       "[0.18395887315273285, 0.9430052042007446]"
      ]
     },
     "execution_count": 13,
     "metadata": {},
     "output_type": "execute_result"
    }
   ],
   "source": [
    "model.evaluate(test_set)"
   ]
  },
  {
   "cell_type": "code",
   "execution_count": 14,
   "id": "34bc454b",
   "metadata": {},
   "outputs": [],
   "source": [
    "y_pred = model.predict(test_set)"
   ]
  },
  {
   "cell_type": "code",
   "execution_count": 15,
   "id": "9446b85a",
   "metadata": {},
   "outputs": [
    {
     "data": {
      "text/plain": [
       "array([[9.9968851e-01, 3.1145857e-04],\n",
       "       [7.9803365e-01, 2.0196636e-01],\n",
       "       [9.2564726e-01, 7.4352719e-02],\n",
       "       ...,\n",
       "       [3.5221970e-01, 6.4778024e-01],\n",
       "       [1.4281055e-01, 8.5718948e-01],\n",
       "       [9.7768879e-01, 2.2311212e-02]], dtype=float32)"
      ]
     },
     "execution_count": 15,
     "metadata": {},
     "output_type": "execute_result"
    }
   ],
   "source": [
    "y_pred"
   ]
  },
  {
   "cell_type": "code",
   "execution_count": 16,
   "id": "50ac6d92",
   "metadata": {},
   "outputs": [
    {
     "data": {
      "text/plain": [
       "array([[9.9968851e-01, 3.1145857e-04],\n",
       "       [7.9803365e-01, 2.0196636e-01],\n",
       "       [9.2564726e-01, 7.4352719e-02],\n",
       "       [2.2779131e-01, 7.7220869e-01],\n",
       "       [5.0473857e-01, 4.9526137e-01]], dtype=float32)"
      ]
     },
     "execution_count": 16,
     "metadata": {},
     "output_type": "execute_result"
    }
   ],
   "source": [
    "y_pred[:5]"
   ]
  },
  {
   "cell_type": "code",
   "execution_count": 17,
   "id": "751ae5ef",
   "metadata": {},
   "outputs": [],
   "source": [
    "labels_pred = []\n",
    "\n",
    "for i in range(len(y_pred)):\n",
    "#     print(np.argmax(y_pred[i]))\n",
    "    labels_pred.append(np.argmax(y_pred[i]))"
   ]
  },
  {
   "cell_type": "code",
   "execution_count": 18,
   "id": "31db1f63",
   "metadata": {},
   "outputs": [
    {
     "data": {
      "text/plain": [
       "[0, 0, 0, 1, 0, 0, 0, 0, 0, 0]"
      ]
     },
     "execution_count": 18,
     "metadata": {},
     "output_type": "execute_result"
    }
   ],
   "source": [
    "labels_pred[:10]"
   ]
  },
  {
   "cell_type": "code",
   "execution_count": 19,
   "id": "cf08e2c8",
   "metadata": {},
   "outputs": [],
   "source": [
    "labels = test_set.labels.tolist()"
   ]
  },
  {
   "cell_type": "code",
   "execution_count": 20,
   "id": "53fb86fc",
   "metadata": {},
   "outputs": [
    {
     "name": "stdout",
     "output_type": "stream",
     "text": [
      "[[1377   42]\n",
      " [ 134 1535]]\n"
     ]
    }
   ],
   "source": [
    "from sklearn.metrics import confusion_matrix\n",
    "\n",
    "cf_matrix = confusion_matrix(labels, labels_pred)\n",
    "print(cf_matrix)"
   ]
  },
  {
   "cell_type": "code",
   "execution_count": 21,
   "id": "976eefb8",
   "metadata": {},
   "outputs": [
    {
     "data": {
      "text/plain": [
       "<AxesSubplot:>"
      ]
     },
     "execution_count": 21,
     "metadata": {},
     "output_type": "execute_result"
    },
    {
     "data": {
      "image/png": "[encoded data removed]",
      "text/plain": [
       "<Figure size 432x288 with 2 Axes>"
      ]
     },
     "metadata": {
      "needs_background": "light"
     },
     "output_type": "display_data"
    }
   ],
   "source": [
    "import seaborn as sns\n",
    "sns.heatmap(cf_matrix, annot=True)"
   ]
  },
  {
   "cell_type": "code",
   "execution_count": 22,
   "id": "d4521edd",
   "metadata": {},
   "outputs": [
    {
     "data": {
      "text/plain": [
       "<AxesSubplot:>"
      ]
     },
     "execution_count": 22,
     "metadata": {},
     "output_type": "execute_result"
    },
    {
     "data": {
      "image/png": "[encoded data removed]",
      "text/plain": [
       "<Figure size 432x288 with 2 Axes>"
      ]
     },
     "metadata": {
      "needs_background": "light"
     },
     "output_type": "display_data"
    }
   ],
   "source": [
    "sns.heatmap(cf_matrix/np.sum(cf_matrix), annot=True, \n",
    "            fmt='.2%', cmap='Blues')"
   ]
  },
  {
   "cell_type": "code",
   "execution_count": 23,
   "id": "0c3e7337",
   "metadata": {},
   "outputs": [
    {
     "data": {
      "text/plain": [
       "<AxesSubplot:>"
      ]
     },
     "execution_count": 23,
     "metadata": {},
     "output_type": "execute_result"
    },
    {
     "data": {
      "image/png": "[encoded data removed]",
      "text/plain": [
       "<Figure size 432x288 with 2 Axes>"
      ]
     },
     "metadata": {
      "needs_background": "light"
     },
     "output_type": "display_data"
    }
   ],
   "source": [
    "group_names = ['True Neg','False Pos','False Neg','True Pos']\n",
    "group_counts = [\"{0:0.0f}\".format(value) for value in\n",
    "                cf_matrix.flatten()]\n",
    "group_percentages = [\"{0:.2%}\".format(value) for value in\n",
    "                     cf_matrix.flatten()/np.sum(cf_matrix)]\n",
    "labels = [f\"{v1}\\n{v2}\\n{v3}\" for v1, v2, v3 in\n",
    "          zip(group_names,group_counts,group_percentages)]\n",
    "labels = np.asarray(labels).reshape(2,2)\n",
    "sns.heatmap(cf_matrix, annot=labels, fmt='', cmap='Blues')"
   ]
  },
  {
   "cell_type": "code",
   "execution_count": 24,
   "id": "a47059c0",
   "metadata": {},
   "outputs": [],
   "source": [
    "import cv2\n",
    "\n",
    "img = cv2.imread(\"./data_split/test/negative/0a03a65b-9e45-4e3d-ae6c-b8a37112ab31.png\")"
   ]
  },
  {
   "cell_type": "code",
   "execution_count": 25,
   "id": "3a2d1a45",
   "metadata": {},
   "outputs": [],
   "source": [
    "img = cv2.resize(img, (224, 224))\n",
    "img = img / 255."
   ]
  },
  {
   "cell_type": "code",
   "execution_count": 26,
   "id": "7426040c",
   "metadata": {},
   "outputs": [],
   "source": [
    "b = model.predict(np.array([img]))"
   ]
  },
  {
   "cell_type": "code",
   "execution_count": 27,
   "id": "1386c2cb",
   "metadata": {},
   "outputs": [
    {
     "data": {
      "text/plain": [
       "(array([[9.9987924e-01, 1.2080322e-04]], dtype=float32), 0)"
      ]
     },
     "execution_count": 27,
     "metadata": {},
     "output_type": "execute_result"
    }
   ],
   "source": [
    "b, np.argmax(b)"
   ]
  },
  {
   "cell_type": "code",
   "execution_count": null,
   "id": "10849b49",
   "metadata": {},
   "outputs": [],
   "source": []
  }
 ],
 "metadata": {
  "kernelspec": {
   "display_name": "Python 3 (ipykernel)",
   "language": "python",
   "name": "python3"
  },
  "language_info": {
   "codemirror_mode": {
    "name": "ipython",
    "version": 3
   },
   "file_extension": ".py",
   "mimetype": "text/x-python",
   "name": "python",
   "nbconvert_exporter": "python",
   "pygments_lexer": "ipython3",
   "version": "3.9.0"
  }
 },
 "nbformat": 4,
 "nbformat_minor": 5
}
